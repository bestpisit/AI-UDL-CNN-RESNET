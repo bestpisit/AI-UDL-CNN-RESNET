{
  "cells": [
    {
      "cell_type": "markdown",
      "metadata": {
        "colab_type": "text",
        "id": "view-in-github"
      },
      "source": [
        "<a href=\"https://colab.research.google.com/github/udlbook/udlbook/blob/main/Notebooks/Chap11/11_2_Residual_Networks.ipynb\" target=\"_parent\"><img src=\"https://colab.research.google.com/assets/colab-badge.svg\" alt=\"Open In Colab\"/></a>"
      ]
    },
    {
      "cell_type": "markdown",
      "metadata": {
        "id": "t9vk9Elugvmi"
      },
      "source": [
        "# **Notebook 11.2: Residual Networks**\n",
        "\n",
        "This notebook adapts the networks for MNIST1D to use residual connections.\n",
        "\n",
        "Work through the cells below, running each cell in turn. In various places you will see the words \"TO DO\". Follow the instructions at these places and make predictions about what is going to happen or write code to complete the functions.\n",
        "\n",
        "Contact me at udlbookmail@gmail.com if you find any mistakes or have any suggestions.\n",
        "\n"
      ]
    },
    {
      "cell_type": "code",
      "execution_count": 192,
      "metadata": {
        "id": "D5yLObtZCi9J"
      },
      "outputs": [
        {
          "name": "stdout",
          "output_type": "stream",
          "text": [
            "Collecting git+https://github.com/greydanus/mnist1d\n",
            "  Cloning https://github.com/greydanus/mnist1d to c:\\users\\pisit_pisuttipunpong\\appdata\\local\\temp\\pip-req-build-o49x2k23\n",
            "  Resolved https://github.com/greydanus/mnist1d to commit 7878d96082abd200c546a07a4101fa90b30fdf7e\n",
            "  Installing build dependencies: started\n",
            "  Installing build dependencies: finished with status 'done'\n",
            "  Getting requirements to build wheel: started\n",
            "  Getting requirements to build wheel: finished with status 'done'\n",
            "  Preparing metadata (pyproject.toml): started\n",
            "  Preparing metadata (pyproject.toml): finished with status 'done'\n",
            "Requirement already satisfied: requests in c:\\python312\\lib\\site-packages (from mnist1d==0.0.2.post16) (2.32.3)\n",
            "Requirement already satisfied: numpy in c:\\python312\\lib\\site-packages (from mnist1d==0.0.2.post16) (2.0.1)\n",
            "Requirement already satisfied: matplotlib in c:\\python312\\lib\\site-packages (from mnist1d==0.0.2.post16) (3.9.1)\n",
            "Requirement already satisfied: scipy in c:\\python312\\lib\\site-packages (from mnist1d==0.0.2.post16) (1.14.0)\n",
            "Requirement already satisfied: contourpy>=1.0.1 in c:\\python312\\lib\\site-packages (from matplotlib->mnist1d==0.0.2.post16) (1.2.1)\n",
            "Requirement already satisfied: cycler>=0.10 in c:\\python312\\lib\\site-packages (from matplotlib->mnist1d==0.0.2.post16) (0.12.1)\n",
            "Requirement already satisfied: fonttools>=4.22.0 in c:\\python312\\lib\\site-packages (from matplotlib->mnist1d==0.0.2.post16) (4.53.1)\n",
            "Requirement already satisfied: kiwisolver>=1.3.1 in c:\\python312\\lib\\site-packages (from matplotlib->mnist1d==0.0.2.post16) (1.4.5)\n",
            "Requirement already satisfied: packaging>=20.0 in c:\\python312\\lib\\site-packages (from matplotlib->mnist1d==0.0.2.post16) (23.2)\n",
            "Requirement already satisfied: pillow>=8 in c:\\python312\\lib\\site-packages (from matplotlib->mnist1d==0.0.2.post16) (10.4.0)\n",
            "Requirement already satisfied: pyparsing>=2.3.1 in c:\\python312\\lib\\site-packages (from matplotlib->mnist1d==0.0.2.post16) (3.1.2)\n",
            "Requirement already satisfied: python-dateutil>=2.7 in c:\\python312\\lib\\site-packages (from matplotlib->mnist1d==0.0.2.post16) (2.9.0.post0)\n",
            "Requirement already satisfied: charset-normalizer<4,>=2 in c:\\python312\\lib\\site-packages (from requests->mnist1d==0.0.2.post16) (3.3.2)\n",
            "Requirement already satisfied: idna<4,>=2.5 in c:\\python312\\lib\\site-packages (from requests->mnist1d==0.0.2.post16) (3.7)\n",
            "Requirement already satisfied: urllib3<3,>=1.21.1 in c:\\python312\\lib\\site-packages (from requests->mnist1d==0.0.2.post16) (2.0.7)\n",
            "Requirement already satisfied: certifi>=2017.4.17 in c:\\python312\\lib\\site-packages (from requests->mnist1d==0.0.2.post16) (2024.7.4)\n",
            "Requirement already satisfied: six>=1.5 in c:\\python312\\lib\\site-packages (from python-dateutil>=2.7->matplotlib->mnist1d==0.0.2.post16) (1.16.0)\n",
            "Note: you may need to restart the kernel to use updated packages.\n"
          ]
        },
        {
          "name": "stderr",
          "output_type": "stream",
          "text": [
            "  Running command git clone --filter=blob:none --quiet https://github.com/greydanus/mnist1d 'C:\\Users\\pisit_pisuttipunpong\\AppData\\Local\\Temp\\pip-req-build-o49x2k23'\n",
            "\n",
            "[notice] A new release of pip is available: 24.0 -> 24.2\n",
            "[notice] To update, run: python.exe -m pip install --upgrade pip\n"
          ]
        }
      ],
      "source": [
        "# Run this if you're in a Colab to install MNIST 1D repository\n",
        "%pip install git+https://github.com/greydanus/mnist1d"
      ]
    },
    {
      "cell_type": "code",
      "execution_count": 193,
      "metadata": {
        "id": "YrXWAH7sUWvU"
      },
      "outputs": [],
      "source": [
        "import numpy as np\n",
        "import os\n",
        "import torch, torch.nn as nn\n",
        "from torch.utils.data import TensorDataset, DataLoader\n",
        "from torch.optim.lr_scheduler import StepLR\n",
        "import matplotlib.pyplot as plt\n",
        "import torch.nn.functional as F\n",
        "import mnist1d\n",
        "import random"
      ]
    },
    {
      "cell_type": "code",
      "execution_count": 194,
      "metadata": {
        "id": "twI72ZCrCt5z"
      },
      "outputs": [
        {
          "name": "stdout",
          "output_type": "stream",
          "text": [
            "Successfully loaded data from ./mnist1d_data.pkl\n",
            "Examples in training set: 4000\n",
            "Examples in test set: 1000\n",
            "Length of each example: 40\n"
          ]
        }
      ],
      "source": [
        "args = mnist1d.data.get_dataset_args()\n",
        "data = mnist1d.data.get_dataset(args, path='./mnist1d_data.pkl', download=False, regenerate=False)\n",
        "\n",
        "# The training and test input and outputs are in\n",
        "# data['x'], data['y'], data['x_test'], and data['y_test']\n",
        "print(\"Examples in training set: {}\".format(len(data['y'])))\n",
        "print(\"Examples in test set: {}\".format(len(data['y_test'])))\n",
        "print(\"Length of each example: {}\".format(data['x'].shape[-1]))"
      ]
    },
    {
      "cell_type": "code",
      "execution_count": 195,
      "metadata": {
        "id": "8bKADvLHbiV5"
      },
      "outputs": [
        {
          "name": "stdout",
          "output_type": "stream",
          "text": [
            "Train data: 4000 examples (columns), each of which has 40 dimensions (rows)\n",
            "Validation data: 1000 examples (columns), each of which has 40 dimensions (rows)\n"
          ]
        }
      ],
      "source": [
        "# Load in the data\n",
        "train_data_x = data['x'].transpose()\n",
        "train_data_y = data['y']\n",
        "val_data_x = data['x_test'].transpose()\n",
        "val_data_y = data['y_test']\n",
        "# Print out sizes\n",
        "print(\"Train data: %d examples (columns), each of which has %d dimensions (rows)\"%((train_data_x.shape[1],train_data_x.shape[0])))\n",
        "print(\"Validation data: %d examples (columns), each of which has %d dimensions (rows)\"%((val_data_x.shape[1],val_data_x.shape[0])))"
      ]
    },
    {
      "cell_type": "markdown",
      "metadata": {
        "id": "_sFvRDGrl4qe"
      },
      "source": [
        "Define the network"
      ]
    },
    {
      "cell_type": "code",
      "execution_count": 196,
      "metadata": {
        "id": "FslroPJJffrh"
      },
      "outputs": [],
      "source": [
        "# There are 40 input dimensions and 10 output dimensions for this data\n",
        "# The inputs correspond to the 40 offsets in the MNIST1D template.\n",
        "D_i = 40\n",
        "# The outputs correspond to the 10 digits\n",
        "D_o = 10\n",
        "\n",
        "\n",
        "# We will adapt this model to have residual connections around the linear layers\n",
        "# This is the same model we used in practical 8.1, but we can't use the sequential\n",
        "# class for residual networks (which aren't strictly sequential).  Hence, I've rewritten\n",
        "# it as a model that inherits from a base class\n",
        "\n",
        "class ResidualNetwork(torch.nn.Module):\n",
        "  def __init__(self, input_size, output_size, enable_resnet=True, hidden_size=100):\n",
        "    super(ResidualNetwork, self).__init__()\n",
        "    self.linear1 = nn.Linear(input_size, hidden_size)\n",
        "    self.linear2 = nn.Linear(hidden_size, hidden_size)\n",
        "    self.linear3 = nn.Linear(hidden_size, hidden_size)\n",
        "    self.linear4 = nn.Linear(hidden_size, output_size)\n",
        "    self.enable_resnet = enable_resnet\n",
        "    print(\"Initialized MLPBase model with {} parameters\".format(self.count_params()))\n",
        "\n",
        "  def count_params(self):\n",
        "    return sum([p.view(-1).shape[0] for p in self.parameters()])\n",
        "\n",
        "# TODO -- Add residual connections to this model\n",
        "# The order of operations within each block should similar to figure 11.5b\n",
        "# ie., linear1 first, ReLU+linear2 in first residual block, ReLU+linear3 in second residual block), linear4 at end\n",
        "# Replace this function\n",
        "  def forward(self, x):\n",
        "    h1 = self.linear1(x).relu()\n",
        "    residual1 = self.linear2(h1)\n",
        "    if(self.enable_resnet):\n",
        "      h2 = self.linear2(residual1.relu()) + residual1\n",
        "      h3 = self.linear3(self.linear3(h2.relu()).relu()) + h2\n",
        "    else:\n",
        "      h2 = self.linear2(residual1.relu())\n",
        "      h3 = self.linear3(self.linear3(h2.relu()).relu())\n",
        "    return self.linear4(h3)\n"
      ]
    },
    {
      "cell_type": "code",
      "execution_count": 197,
      "metadata": {
        "id": "YgLaex1pfhqz"
      },
      "outputs": [],
      "source": [
        "# He initialization of weights\n",
        "def weights_init(layer_in):\n",
        "  if isinstance(layer_in, nn.Linear):\n",
        "    nn.init.kaiming_uniform_(layer_in.weight)\n",
        "    layer_in.bias.data.fill_(0.0)"
      ]
    },
    {
      "cell_type": "code",
      "execution_count": 198,
      "metadata": {
        "id": "NYw8I_3mmX5c"
      },
      "outputs": [
        {
          "name": "stdout",
          "output_type": "stream",
          "text": [
            "Initialized MLPBase model with 25310 parameters\n",
            "Initialized MLPBase model with 25310 parameters\n",
            "Training without residual connections...\n",
            "Epoch     0, train loss 1.649799, train error 64.80,  val loss 1.702830, percent error 68.20\n",
            "Epoch     1, train loss 1.505230, train error 60.15,  val loss 1.605332, percent error 63.40\n",
            "Epoch     2, train loss 1.169609, train error 44.08,  val loss 1.305980, percent error 52.90\n",
            "Epoch     3, train loss 1.066181, train error 41.17,  val loss 1.340376, percent error 52.20\n",
            "Epoch     4, train loss 0.971143, train error 37.38,  val loss 1.251654, percent error 50.70\n",
            "Epoch     5, train loss 0.900172, train error 35.97,  val loss 1.227814, percent error 48.80\n",
            "Epoch     6, train loss 0.764757, train error 28.88,  val loss 1.182428, percent error 45.10\n",
            "Epoch     7, train loss 0.734133, train error 27.95,  val loss 1.150005, percent error 43.80\n",
            "Epoch     8, train loss 0.769933, train error 29.32,  val loss 1.378353, percent error 48.70\n",
            "Epoch     9, train loss 0.554436, train error 20.28,  val loss 1.152691, percent error 41.00\n",
            "Epoch    10, train loss 0.533632, train error 20.00,  val loss 1.193040, percent error 39.60\n",
            "Epoch    11, train loss 0.514538, train error 18.38,  val loss 1.148317, percent error 36.80\n",
            "Epoch    12, train loss 0.431111, train error 15.47,  val loss 1.201032, percent error 38.30\n",
            "Epoch    13, train loss 0.448778, train error 16.40,  val loss 1.274871, percent error 37.70\n",
            "Epoch    14, train loss 0.490368, train error 17.47,  val loss 1.376171, percent error 40.90\n",
            "Epoch    15, train loss 0.384168, train error 13.85,  val loss 1.248280, percent error 37.30\n",
            "Epoch    16, train loss 0.375394, train error 13.32,  val loss 1.335423, percent error 39.70\n",
            "Epoch    17, train loss 0.275492, train error 9.25,  val loss 1.323206, percent error 36.70\n",
            "Epoch    18, train loss 0.351485, train error 12.95,  val loss 1.388532, percent error 36.40\n",
            "Epoch    19, train loss 0.330838, train error 12.25,  val loss 1.322869, percent error 36.10\n",
            "Epoch    20, train loss 0.122496, train error 3.68,  val loss 1.283610, percent error 32.30\n",
            "Epoch    21, train loss 0.053782, train error 1.12,  val loss 1.377761, percent error 31.70\n",
            "Epoch    22, train loss 0.033972, train error 0.45,  val loss 1.489976, percent error 31.90\n",
            "Epoch    23, train loss 0.019334, train error 0.30,  val loss 1.645712, percent error 32.40\n",
            "Epoch    24, train loss 0.009358, train error 0.00,  val loss 1.717210, percent error 32.30\n",
            "Epoch    25, train loss 0.006053, train error 0.00,  val loss 1.789563, percent error 31.90\n",
            "Epoch    26, train loss 0.004557, train error 0.00,  val loss 1.856137, percent error 32.80\n",
            "Epoch    27, train loss 0.003496, train error 0.00,  val loss 1.899567, percent error 32.80\n",
            "Epoch    28, train loss 0.002888, train error 0.00,  val loss 1.942991, percent error 33.20\n",
            "Epoch    29, train loss 0.002487, train error 0.00,  val loss 1.980574, percent error 33.20\n",
            "Epoch    30, train loss 0.002175, train error 0.00,  val loss 2.013824, percent error 33.10\n",
            "Epoch    31, train loss 0.001934, train error 0.00,  val loss 2.043227, percent error 33.20\n",
            "Epoch    32, train loss 0.001742, train error 0.00,  val loss 2.071632, percent error 33.10\n",
            "Epoch    33, train loss 0.001581, train error 0.00,  val loss 2.097316, percent error 32.80\n",
            "Epoch    34, train loss 0.001449, train error 0.00,  val loss 2.119930, percent error 32.80\n",
            "Epoch    35, train loss 0.001334, train error 0.00,  val loss 2.139180, percent error 33.10\n",
            "Epoch    36, train loss 0.001237, train error 0.00,  val loss 2.159584, percent error 33.10\n",
            "Epoch    37, train loss 0.001150, train error 0.00,  val loss 2.178316, percent error 33.20\n",
            "Epoch    38, train loss 0.001075, train error 0.00,  val loss 2.196448, percent error 32.90\n",
            "Epoch    39, train loss 0.001010, train error 0.00,  val loss 2.213314, percent error 32.90\n",
            "Epoch    40, train loss 0.000980, train error 0.00,  val loss 2.220728, percent error 33.10\n",
            "Epoch    41, train loss 0.000951, train error 0.00,  val loss 2.227971, percent error 33.20\n",
            "Epoch    42, train loss 0.000925, train error 0.00,  val loss 2.235786, percent error 33.10\n",
            "Epoch    43, train loss 0.000899, train error 0.00,  val loss 2.242555, percent error 33.20\n",
            "Epoch    44, train loss 0.000875, train error 0.00,  val loss 2.250321, percent error 33.20\n",
            "Epoch    45, train loss 0.000852, train error 0.00,  val loss 2.256610, percent error 33.00\n",
            "Epoch    46, train loss 0.000831, train error 0.00,  val loss 2.263532, percent error 33.00\n",
            "Epoch    47, train loss 0.000810, train error 0.00,  val loss 2.270905, percent error 33.00\n",
            "Epoch    48, train loss 0.000790, train error 0.00,  val loss 2.276582, percent error 33.20\n",
            "Epoch    49, train loss 0.000771, train error 0.00,  val loss 2.282949, percent error 33.00\n",
            "Epoch    50, train loss 0.000753, train error 0.00,  val loss 2.289427, percent error 33.20\n",
            "Epoch    51, train loss 0.000736, train error 0.00,  val loss 2.295759, percent error 33.10\n",
            "Epoch    52, train loss 0.000719, train error 0.00,  val loss 2.301977, percent error 33.20\n",
            "Epoch    53, train loss 0.000703, train error 0.00,  val loss 2.307429, percent error 33.00\n",
            "Epoch    54, train loss 0.000688, train error 0.00,  val loss 2.312937, percent error 33.00\n",
            "Epoch    55, train loss 0.000674, train error 0.00,  val loss 2.318732, percent error 33.10\n",
            "Epoch    56, train loss 0.000660, train error 0.00,  val loss 2.324945, percent error 33.00\n",
            "Epoch    57, train loss 0.000646, train error 0.00,  val loss 2.329383, percent error 33.00\n",
            "Epoch    58, train loss 0.000633, train error 0.00,  val loss 2.335353, percent error 33.00\n",
            "Epoch    59, train loss 0.000621, train error 0.00,  val loss 2.340069, percent error 32.90\n",
            "Epoch    60, train loss 0.000615, train error 0.00,  val loss 2.342785, percent error 32.90\n",
            "Epoch    61, train loss 0.000609, train error 0.00,  val loss 2.345588, percent error 32.90\n",
            "Epoch    62, train loss 0.000603, train error 0.00,  val loss 2.348197, percent error 32.90\n",
            "Epoch    63, train loss 0.000597, train error 0.00,  val loss 2.350669, percent error 32.90\n",
            "Epoch    64, train loss 0.000591, train error 0.00,  val loss 2.353430, percent error 33.00\n",
            "Epoch    65, train loss 0.000586, train error 0.00,  val loss 2.355776, percent error 32.90\n",
            "Epoch    66, train loss 0.000581, train error 0.00,  val loss 2.358283, percent error 32.90\n",
            "Epoch    67, train loss 0.000575, train error 0.00,  val loss 2.360884, percent error 32.90\n",
            "Epoch    68, train loss 0.000570, train error 0.00,  val loss 2.363253, percent error 32.90\n",
            "Epoch    69, train loss 0.000565, train error 0.00,  val loss 2.365781, percent error 32.90\n",
            "Epoch    70, train loss 0.000560, train error 0.00,  val loss 2.367987, percent error 32.90\n",
            "Epoch    71, train loss 0.000555, train error 0.00,  val loss 2.370427, percent error 32.90\n",
            "Epoch    72, train loss 0.000550, train error 0.00,  val loss 2.372953, percent error 32.90\n",
            "Epoch    73, train loss 0.000545, train error 0.00,  val loss 2.375251, percent error 32.90\n",
            "Epoch    74, train loss 0.000540, train error 0.00,  val loss 2.377808, percent error 32.90\n",
            "Epoch    75, train loss 0.000536, train error 0.00,  val loss 2.379944, percent error 32.90\n",
            "Epoch    76, train loss 0.000531, train error 0.00,  val loss 2.382090, percent error 32.90\n",
            "Epoch    77, train loss 0.000526, train error 0.00,  val loss 2.384576, percent error 32.90\n",
            "Epoch    78, train loss 0.000522, train error 0.00,  val loss 2.386783, percent error 32.90\n",
            "Epoch    79, train loss 0.000518, train error 0.00,  val loss 2.388983, percent error 32.90\n",
            "Epoch    80, train loss 0.000515, train error 0.00,  val loss 2.390006, percent error 32.90\n",
            "Epoch    81, train loss 0.000513, train error 0.00,  val loss 2.391338, percent error 32.90\n",
            "Epoch    82, train loss 0.000511, train error 0.00,  val loss 2.392399, percent error 32.90\n",
            "Epoch    83, train loss 0.000509, train error 0.00,  val loss 2.393426, percent error 32.90\n",
            "Epoch    84, train loss 0.000507, train error 0.00,  val loss 2.394636, percent error 32.90\n",
            "Epoch    85, train loss 0.000505, train error 0.00,  val loss 2.395659, percent error 32.90\n",
            "Epoch    86, train loss 0.000503, train error 0.00,  val loss 2.396816, percent error 33.00\n",
            "Epoch    87, train loss 0.000501, train error 0.00,  val loss 2.397911, percent error 32.90\n",
            "Epoch    88, train loss 0.000499, train error 0.00,  val loss 2.398970, percent error 32.90\n",
            "Epoch    89, train loss 0.000497, train error 0.00,  val loss 2.400027, percent error 32.90\n",
            "Epoch    90, train loss 0.000495, train error 0.00,  val loss 2.401164, percent error 32.90\n",
            "Epoch    91, train loss 0.000493, train error 0.00,  val loss 2.402200, percent error 32.90\n",
            "Epoch    92, train loss 0.000491, train error 0.00,  val loss 2.403225, percent error 32.90\n",
            "Epoch    93, train loss 0.000489, train error 0.00,  val loss 2.404278, percent error 32.90\n",
            "Epoch    94, train loss 0.000487, train error 0.00,  val loss 2.405423, percent error 33.00\n",
            "Epoch    95, train loss 0.000485, train error 0.00,  val loss 2.406536, percent error 33.00\n",
            "Epoch    96, train loss 0.000483, train error 0.00,  val loss 2.407397, percent error 32.90\n",
            "Epoch    97, train loss 0.000481, train error 0.00,  val loss 2.408539, percent error 32.90\n",
            "Epoch    98, train loss 0.000479, train error 0.00,  val loss 2.409496, percent error 32.90\n",
            "Epoch    99, train loss 0.000477, train error 0.00,  val loss 2.410582, percent error 32.90\n",
            "Training with residual connections...\n",
            "Epoch     0, train loss 1.964184, train error 69.57,  val loss 2.049647, percent error 70.70\n",
            "Epoch     1, train loss 1.163659, train error 45.33,  val loss 1.249219, percent error 51.30\n",
            "Epoch     2, train loss 0.973176, train error 36.70,  val loss 1.168333, percent error 45.80\n",
            "Epoch     3, train loss 0.914662, train error 35.68,  val loss 1.138986, percent error 43.50\n",
            "Epoch     4, train loss 0.811295, train error 31.15,  val loss 1.093606, percent error 43.70\n",
            "Epoch     5, train loss 0.685926, train error 25.72,  val loss 1.093969, percent error 41.20\n",
            "Epoch     6, train loss 0.657193, train error 24.82,  val loss 1.076507, percent error 40.80\n",
            "Epoch     7, train loss 0.574354, train error 21.50,  val loss 1.027615, percent error 36.80\n",
            "Epoch     8, train loss 0.537857, train error 20.93,  val loss 1.172693, percent error 40.80\n",
            "Epoch     9, train loss 0.499543, train error 19.05,  val loss 1.128884, percent error 39.00\n",
            "Epoch    10, train loss 0.477462, train error 17.25,  val loss 1.073228, percent error 36.70\n",
            "Epoch    11, train loss 0.384640, train error 13.57,  val loss 1.107153, percent error 35.80\n",
            "Epoch    12, train loss 0.383602, train error 14.30,  val loss 1.253158, percent error 36.20\n",
            "Epoch    13, train loss 0.326028, train error 11.88,  val loss 1.176918, percent error 36.00\n",
            "Epoch    14, train loss 0.354320, train error 12.50,  val loss 1.399201, percent error 38.40\n",
            "Epoch    15, train loss 0.272855, train error 9.88,  val loss 1.400713, percent error 38.00\n",
            "Epoch    16, train loss 0.386057, train error 13.60,  val loss 1.437862, percent error 36.30\n",
            "Epoch    17, train loss 0.312340, train error 10.53,  val loss 1.364330, percent error 36.30\n",
            "Epoch    18, train loss 0.309771, train error 11.20,  val loss 1.547656, percent error 38.50\n",
            "Epoch    19, train loss 0.358378, train error 12.68,  val loss 1.676207, percent error 37.30\n",
            "Epoch    20, train loss 0.094111, train error 2.65,  val loss 1.338136, percent error 34.80\n",
            "Epoch    21, train loss 0.047229, train error 0.55,  val loss 1.369146, percent error 33.50\n",
            "Epoch    22, train loss 0.025541, train error 0.15,  val loss 1.424302, percent error 32.90\n",
            "Epoch    23, train loss 0.016964, train error 0.03,  val loss 1.497031, percent error 33.20\n",
            "Epoch    24, train loss 0.011871, train error 0.00,  val loss 1.541461, percent error 32.50\n",
            "Epoch    25, train loss 0.008832, train error 0.00,  val loss 1.585037, percent error 32.60\n",
            "Epoch    26, train loss 0.007258, train error 0.00,  val loss 1.625766, percent error 32.90\n",
            "Epoch    27, train loss 0.006189, train error 0.00,  val loss 1.667370, percent error 32.70\n",
            "Epoch    28, train loss 0.005442, train error 0.00,  val loss 1.696779, percent error 32.50\n",
            "Epoch    29, train loss 0.004724, train error 0.00,  val loss 1.728627, percent error 32.70\n",
            "Epoch    30, train loss 0.004232, train error 0.00,  val loss 1.757862, percent error 32.60\n",
            "Epoch    31, train loss 0.003816, train error 0.00,  val loss 1.785326, percent error 32.60\n",
            "Epoch    32, train loss 0.003459, train error 0.00,  val loss 1.804964, percent error 32.60\n",
            "Epoch    33, train loss 0.003174, train error 0.00,  val loss 1.825428, percent error 32.50\n",
            "Epoch    34, train loss 0.002934, train error 0.00,  val loss 1.847949, percent error 32.90\n",
            "Epoch    35, train loss 0.002713, train error 0.00,  val loss 1.866143, percent error 33.10\n",
            "Epoch    36, train loss 0.002514, train error 0.00,  val loss 1.884028, percent error 33.00\n",
            "Epoch    37, train loss 0.002352, train error 0.00,  val loss 1.899972, percent error 33.10\n",
            "Epoch    38, train loss 0.002210, train error 0.00,  val loss 1.917603, percent error 33.10\n",
            "Epoch    39, train loss 0.002077, train error 0.00,  val loss 1.930397, percent error 33.30\n",
            "Epoch    40, train loss 0.002015, train error 0.00,  val loss 1.938619, percent error 33.20\n",
            "Epoch    41, train loss 0.001959, train error 0.00,  val loss 1.945581, percent error 33.20\n",
            "Epoch    42, train loss 0.001908, train error 0.00,  val loss 1.953297, percent error 33.10\n",
            "Epoch    43, train loss 0.001857, train error 0.00,  val loss 1.959443, percent error 33.30\n",
            "Epoch    44, train loss 0.001809, train error 0.00,  val loss 1.965660, percent error 33.20\n",
            "Epoch    45, train loss 0.001764, train error 0.00,  val loss 1.972752, percent error 33.20\n",
            "Epoch    46, train loss 0.001720, train error 0.00,  val loss 1.979249, percent error 33.20\n",
            "Epoch    47, train loss 0.001678, train error 0.00,  val loss 1.984216, percent error 33.30\n",
            "Epoch    48, train loss 0.001639, train error 0.00,  val loss 1.990608, percent error 33.30\n",
            "Epoch    49, train loss 0.001600, train error 0.00,  val loss 1.996582, percent error 33.40\n",
            "Epoch    50, train loss 0.001564, train error 0.00,  val loss 2.002239, percent error 33.50\n",
            "Epoch    51, train loss 0.001528, train error 0.00,  val loss 2.007716, percent error 33.40\n",
            "Epoch    52, train loss 0.001495, train error 0.00,  val loss 2.013128, percent error 33.60\n",
            "Epoch    53, train loss 0.001463, train error 0.00,  val loss 2.019024, percent error 33.60\n",
            "Epoch    54, train loss 0.001432, train error 0.00,  val loss 2.024513, percent error 33.80\n",
            "Epoch    55, train loss 0.001402, train error 0.00,  val loss 2.030222, percent error 33.60\n",
            "Epoch    56, train loss 0.001373, train error 0.00,  val loss 2.034981, percent error 33.80\n",
            "Epoch    57, train loss 0.001346, train error 0.00,  val loss 2.040006, percent error 33.70\n",
            "Epoch    58, train loss 0.001319, train error 0.00,  val loss 2.046317, percent error 33.70\n",
            "Epoch    59, train loss 0.001293, train error 0.00,  val loss 2.050371, percent error 33.80\n",
            "Epoch    60, train loss 0.001281, train error 0.00,  val loss 2.052867, percent error 33.60\n",
            "Epoch    61, train loss 0.001268, train error 0.00,  val loss 2.055709, percent error 33.60\n",
            "Epoch    62, train loss 0.001256, train error 0.00,  val loss 2.057844, percent error 33.60\n",
            "Epoch    63, train loss 0.001244, train error 0.00,  val loss 2.060327, percent error 33.60\n",
            "Epoch    64, train loss 0.001233, train error 0.00,  val loss 2.062832, percent error 33.60\n",
            "Epoch    65, train loss 0.001221, train error 0.00,  val loss 2.065348, percent error 33.60\n",
            "Epoch    66, train loss 0.001210, train error 0.00,  val loss 2.067557, percent error 33.60\n",
            "Epoch    67, train loss 0.001199, train error 0.00,  val loss 2.069982, percent error 33.60\n",
            "Epoch    68, train loss 0.001188, train error 0.00,  val loss 2.072269, percent error 33.60\n",
            "Epoch    69, train loss 0.001177, train error 0.00,  val loss 2.074454, percent error 33.60\n",
            "Epoch    70, train loss 0.001167, train error 0.00,  val loss 2.076638, percent error 33.60\n",
            "Epoch    71, train loss 0.001156, train error 0.00,  val loss 2.079509, percent error 33.60\n",
            "Epoch    72, train loss 0.001146, train error 0.00,  val loss 2.081396, percent error 33.60\n",
            "Epoch    73, train loss 0.001136, train error 0.00,  val loss 2.083837, percent error 33.60\n",
            "Epoch    74, train loss 0.001126, train error 0.00,  val loss 2.086060, percent error 33.60\n",
            "Epoch    75, train loss 0.001116, train error 0.00,  val loss 2.088308, percent error 33.60\n",
            "Epoch    76, train loss 0.001107, train error 0.00,  val loss 2.090535, percent error 33.60\n",
            "Epoch    77, train loss 0.001098, train error 0.00,  val loss 2.092751, percent error 33.70\n",
            "Epoch    78, train loss 0.001088, train error 0.00,  val loss 2.095025, percent error 33.70\n",
            "Epoch    79, train loss 0.001079, train error 0.00,  val loss 2.097144, percent error 33.50\n",
            "Epoch    80, train loss 0.001075, train error 0.00,  val loss 2.098237, percent error 33.70\n",
            "Epoch    81, train loss 0.001070, train error 0.00,  val loss 2.099170, percent error 33.60\n",
            "Epoch    82, train loss 0.001066, train error 0.00,  val loss 2.100363, percent error 33.60\n",
            "Epoch    83, train loss 0.001061, train error 0.00,  val loss 2.101442, percent error 33.60\n",
            "Epoch    84, train loss 0.001057, train error 0.00,  val loss 2.102408, percent error 33.60\n",
            "Epoch    85, train loss 0.001053, train error 0.00,  val loss 2.103549, percent error 33.70\n",
            "Epoch    86, train loss 0.001048, train error 0.00,  val loss 2.104484, percent error 33.70\n",
            "Epoch    87, train loss 0.001044, train error 0.00,  val loss 2.105618, percent error 33.70\n",
            "Epoch    88, train loss 0.001040, train error 0.00,  val loss 2.106760, percent error 33.70\n",
            "Epoch    89, train loss 0.001036, train error 0.00,  val loss 2.107657, percent error 33.70\n",
            "Epoch    90, train loss 0.001032, train error 0.00,  val loss 2.108855, percent error 33.70\n",
            "Epoch    91, train loss 0.001027, train error 0.00,  val loss 2.109872, percent error 33.70\n",
            "Epoch    92, train loss 0.001023, train error 0.00,  val loss 2.110846, percent error 33.70\n",
            "Epoch    93, train loss 0.001019, train error 0.00,  val loss 2.111848, percent error 33.70\n",
            "Epoch    94, train loss 0.001015, train error 0.00,  val loss 2.112957, percent error 33.70\n",
            "Epoch    95, train loss 0.001011, train error 0.00,  val loss 2.113980, percent error 33.70\n",
            "Epoch    96, train loss 0.001007, train error 0.00,  val loss 2.115083, percent error 33.70\n",
            "Epoch    97, train loss 0.001003, train error 0.00,  val loss 2.115878, percent error 33.70\n",
            "Epoch    98, train loss 0.000999, train error 0.00,  val loss 2.117075, percent error 33.70\n",
            "Epoch    99, train loss 0.000995, train error 0.00,  val loss 2.118108, percent error 33.70\n"
          ]
        }
      ],
      "source": [
        "# Define the models\n",
        "model_with_resnet = ResidualNetwork(40, 10, enable_resnet=True)\n",
        "model_without_resnet = ResidualNetwork(40, 10, enable_resnet=False)\n",
        "\n",
        "# Define separate loss functions and optimizers\n",
        "loss_function = nn.CrossEntropyLoss()\n",
        "\n",
        "# Optimizer and scheduler for model with resnet\n",
        "optimizer_with_resnet = torch.optim.SGD(model_with_resnet.parameters(), lr=0.05, momentum=0.9)\n",
        "scheduler_with_resnet = StepLR(optimizer_with_resnet, step_size=20, gamma=0.5)\n",
        "\n",
        "# Optimizer and scheduler for model without resnet\n",
        "optimizer_without_resnet = torch.optim.SGD(model_without_resnet.parameters(), lr=0.05, momentum=0.9)\n",
        "scheduler_without_resnet = StepLR(optimizer_without_resnet, step_size=20, gamma=0.5)\n",
        "\n",
        "# Convert data to torch tensors\n",
        "x_train = torch.tensor(train_data_x.transpose().astype('float32'))\n",
        "y_train = torch.tensor(train_data_y.astype('long')).long()\n",
        "x_val = torch.tensor(val_data_x.transpose().astype('float32'))\n",
        "y_val = torch.tensor(val_data_y.astype('long')).long()\n",
        "\n",
        "# Load data into DataLoader\n",
        "data_loader = DataLoader(TensorDataset(x_train, y_train), batch_size=100, shuffle=True, worker_init_fn=random.seed(0))\n",
        "\n",
        "# Initialize weights for both models\n",
        "model_with_resnet.apply(weights_init)\n",
        "model_without_resnet.apply(weights_init)\n",
        "\n",
        "# Store the statistics for both models\n",
        "n_epoch = 100\n",
        "losses_train_with_resnet = np.zeros((n_epoch))\n",
        "errors_train_with_resnet = np.zeros((n_epoch))\n",
        "losses_val_with_resnet = np.zeros((n_epoch))\n",
        "errors_val_with_resnet = np.zeros((n_epoch))\n",
        "\n",
        "losses_train_without_resnet = np.zeros((n_epoch))\n",
        "errors_train_without_resnet = np.zeros((n_epoch))\n",
        "losses_val_without_resnet = np.zeros((n_epoch))\n",
        "errors_val_without_resnet = np.zeros((n_epoch))\n",
        "\n",
        "# Function to train a model and return losses and errors\n",
        "def train_model(model, optimizer, scheduler, losses_train, errors_train, losses_val, errors_val):\n",
        "    for epoch in range(n_epoch):\n",
        "        # Training loop over batches\n",
        "        for i, data in enumerate(data_loader):\n",
        "            x_batch, y_batch = data\n",
        "            optimizer.zero_grad()\n",
        "            pred = model(x_batch)\n",
        "            loss = loss_function(pred, y_batch)\n",
        "            loss.backward()\n",
        "            optimizer.step()\n",
        "\n",
        "        # Collect statistics\n",
        "        pred_train = model(x_train)\n",
        "        pred_val = model(x_val)\n",
        "        _, predicted_train_class = torch.max(pred_train.data, 1)\n",
        "        _, predicted_val_class = torch.max(pred_val.data, 1)\n",
        "        \n",
        "        errors_train[epoch] = 100 - 100 * (predicted_train_class == y_train).float().sum() / len(y_train)\n",
        "        errors_val[epoch] = 100 - 100 * (predicted_val_class == y_val).float().sum() / len(y_val)\n",
        "        losses_train[epoch] = loss_function(pred_train, y_train).item()\n",
        "        losses_val[epoch] = loss_function(pred_val, y_val).item()\n",
        "\n",
        "        print(f'Epoch {epoch:5d}, train loss {losses_train[epoch]:.6f}, train error {errors_train[epoch]:3.2f},  val loss {losses_val[epoch]:.6f}, percent error {errors_val[epoch]:3.2f}')\n",
        "        \n",
        "        scheduler.step()\n",
        "\n",
        "# Train the model without residual connections\n",
        "print(\"Training without residual connections...\")\n",
        "train_model(model_without_resnet, optimizer_without_resnet, scheduler_without_resnet, \n",
        "            losses_train_without_resnet, errors_train_without_resnet, losses_val_without_resnet, errors_val_without_resnet)\n",
        "\n",
        "# Train the model with residual connections\n",
        "print(\"Training with residual connections...\")\n",
        "train_model(model_with_resnet, optimizer_with_resnet, scheduler_with_resnet, \n",
        "            losses_train_with_resnet, errors_train_with_resnet, losses_val_with_resnet, errors_val_with_resnet)"
      ]
    },
    {
      "cell_type": "code",
      "execution_count": 199,
      "metadata": {
        "id": "CcP_VyEmE2sv"
      },
      "outputs": [
        {
          "data": {
            "image/png": "[encoded data removed]",
            "text/plain": [
              "<Figure size 1000x600 with 1 Axes>"
            ]
          },
          "metadata": {},
          "output_type": "display_data"
        }
      ],
      "source": [
        "def plot_eval(errors_train_with_resnet, errors_val_with_resnet, \n",
        "                errors_train_without_resnet, errors_val_without_resnet, n_epoch):\n",
        "    fig, ax = plt.subplots(figsize=(10, 6))\n",
        "\n",
        "    # Plot training and validation errors for the model with residual connections\n",
        "    ax.plot(errors_train_with_resnet, 'r-', label='Train Error (With ResNet)')\n",
        "    ax.plot(errors_val_with_resnet, 'b-', label='Val Error (With ResNet)')\n",
        "\n",
        "    # Plot training and validation errors for the model without residual connections\n",
        "    ax.plot(errors_train_without_resnet, 'r--', label='Train Error (Without ResNet)')\n",
        "    ax.plot(errors_val_without_resnet, 'b--', label='Val Error (Without ResNet)')\n",
        "\n",
        "    ax.set_ylim(0, 100)\n",
        "    ax.set_xlim(0, n_epoch)\n",
        "    ax.set_xlabel('Epoch')\n",
        "    ax.set_ylabel('Error (%)')\n",
        "    ax.set_title('Training and Validation Errors (With and Without ResNet)')\n",
        "    ax.legend()\n",
        "\n",
        "    plt.grid(True)\n",
        "    plt.show()\n",
        "\n",
        "# Plot the errors\n",
        "plot_eval(errors_train_with_resnet, errors_val_with_resnet, \n",
        "            errors_train_without_resnet, errors_val_without_resnet, n_epoch)"
      ]
    },
    {
      "cell_type": "markdown",
      "metadata": {
        "id": "wMmqhmxuAx0M"
      },
      "source": [
        "The primary motivation of residual networks is to allow training of much deeper networks.   \n",
        "\n",
        "TODO: Try running this network with and without the residual connections.  Does adding the residual connections change the performance?\n",
        "\n",
        "# 640615023 Pisit Pisuttipunpong\n",
        "\n",
        "Question: Does adding the residual connections change the performance?\n",
        "\n",
        "Answer: Yes, based on the Training and Validation Errors (With and Without ResNet) it show that using ResNet improve the performance for both Training and Validation Error by decreasing error of the model"
      ]
    }
  ],
  "metadata": {
    "colab": {
      "authorship_tag": "ABX9TyNIY8tswL9e48d5D53aSmHO",
      "include_colab_link": true,
      "provenance": []
    },
    "kernelspec": {
      "display_name": "Python 3",
      "name": "python3"
    },
    "language_info": {
      "codemirror_mode": {
        "name": "ipython",
        "version": 3
      },
      "file_extension": ".py",
      "mimetype": "text/x-python",
      "name": "python",
      "nbconvert_exporter": "python",
      "pygments_lexer": "ipython3",
      "version": "3.12.4"
    }
  },
  "nbformat": 4,
  "nbformat_minor": 0
}
