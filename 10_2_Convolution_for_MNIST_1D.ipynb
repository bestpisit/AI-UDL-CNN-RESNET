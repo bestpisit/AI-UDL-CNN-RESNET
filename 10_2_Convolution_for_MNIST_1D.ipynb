{
  "cells": [
    {
      "cell_type": "markdown",
      "metadata": {
        "colab_type": "text",
        "id": "view-in-github"
      },
      "source": [
        "<a href=\"https://colab.research.google.com/github/udlbook/udlbook/blob/main/Notebooks/Chap10/10_2_Convolution_for_MNIST_1D.ipynb\" target=\"_parent\"><img src=\"https://colab.research.google.com/assets/colab-badge.svg\" alt=\"Open In Colab\"/></a>"
      ]
    },
    {
      "cell_type": "markdown",
      "metadata": {
        "id": "t9vk9Elugvmi"
      },
      "source": [
        "# **Notebook 10.2: Convolution for MNIST-1D**\n",
        "\n",
        "This notebook investigates a 1D convolutional network for MNIST-1D as in figure 10.7 and 10.8a.\n",
        "\n",
        "Work through the cells below, running each cell in turn. In various places you will see the words \"TO DO\". Follow the instructions at these places and make predictions about what is going to happen or write code to complete the functions.\n",
        "\n",
        "Contact me at udlbookmail@gmail.com if you find any mistakes or have any suggestions.\n",
        "\n"
      ]
    },
    {
      "cell_type": "code",
      "execution_count": null,
      "metadata": {
        "id": "D5yLObtZCi9J"
      },
      "outputs": [],
      "source": [
        "# Run this if you're in a Colab to install MNIST 1D repository\n",
        "%pip install git+https://github.com/greydanus/mnist1d"
      ]
    },
    {
      "cell_type": "code",
      "execution_count": 3,
      "metadata": {
        "id": "YrXWAH7sUWvU"
      },
      "outputs": [],
      "source": [
        "import numpy as np\n",
        "import os\n",
        "import torch, torch.nn as nn\n",
        "from torch.utils.data import TensorDataset, DataLoader\n",
        "from torch.optim.lr_scheduler import StepLR\n",
        "import matplotlib.pyplot as plt\n",
        "import mnist1d\n",
        "import random"
      ]
    },
    {
      "cell_type": "code",
      "execution_count": 4,
      "metadata": {
        "id": "twI72ZCrCt5z"
      },
      "outputs": [
        {
          "name": "stdout",
          "output_type": "stream",
          "text": [
            "Did or could not load data from ./mnist1d_data.pkl. Rebuilding dataset...\n",
            "Examples in training set: 4000\n",
            "Examples in test set: 1000\n",
            "Length of each example: 40\n"
          ]
        }
      ],
      "source": [
        "args = mnist1d.data.get_dataset_args()\n",
        "data = mnist1d.data.get_dataset(args, path='./mnist1d_data.pkl', download=False, regenerate=False)\n",
        "\n",
        "# The training and test input and outputs are in\n",
        "# data['x'], data['y'], data['x_test'], and data['y_test']\n",
        "print(\"Examples in training set: {}\".format(len(data['y'])))\n",
        "print(\"Examples in test set: {}\".format(len(data['y_test'])))\n",
        "print(\"Length of each example: {}\".format(data['x'].shape[-1]))"
      ]
    },
    {
      "cell_type": "code",
      "execution_count": 5,
      "metadata": {
        "id": "8bKADvLHbiV5"
      },
      "outputs": [
        {
          "name": "stdout",
          "output_type": "stream",
          "text": [
            "Train data: 4000 examples (columns), each of which has 40 dimensions (rows)\n",
            "Validation data: 1000 examples (columns), each of which has 40 dimensions (rows)\n"
          ]
        }
      ],
      "source": [
        "# Load in the data\n",
        "train_data_x = data['x'].transpose()\n",
        "train_data_y = data['y']\n",
        "val_data_x = data['x_test'].transpose()\n",
        "val_data_y = data['y_test']\n",
        "# Print out sizes\n",
        "print(\"Train data: %d examples (columns), each of which has %d dimensions (rows)\"%((train_data_x.shape[1],train_data_x.shape[0])))\n",
        "print(\"Validation data: %d examples (columns), each of which has %d dimensions (rows)\"%((val_data_x.shape[1],val_data_x.shape[0])))"
      ]
    },
    {
      "cell_type": "markdown",
      "metadata": {
        "id": "_sFvRDGrl4qe"
      },
      "source": [
        "Define the network"
      ]
    },
    {
      "cell_type": "code",
      "execution_count": 9,
      "metadata": {
        "id": "FslroPJJffrh"
      },
      "outputs": [],
      "source": [
        "# There are 40 input dimensions and 10 output dimensions for this data\n",
        "# The inputs correspond to the 40 offsets in the MNIST1D template.\n",
        "D_i = 40\n",
        "# The outputs correspond to the 10 digits\n",
        "D_o = 10\n",
        "\n",
        "\n",
        "# TODO Create a model with the following layers\n",
        "# 1. Convolutional layer, (input=length 40 and 1 channel, kernel size 3, stride 2, padding=\"valid\", 15 output channels )\n",
        "# 2. ReLU\n",
        "# 3. Convolutional layer, (input=length 19 and 15 channels, kernel size 3, stride 2, padding=\"valid\", 15 output channels )\n",
        "# 4. ReLU\n",
        "# 5. Convolutional layer, (input=length 9 and 15 channels, kernel size 3, stride 2, padding=\"valid\", 15 output channels)\n",
        "# 6. ReLU\n",
        "# 7. Flatten (converts 4x15) to length 60\n",
        "# 8. Linear layer (input size = 60, output size = 10)\n",
        "# References:\n",
        "# https://pytorch.org/docs/1.13/generated/torch.nn.Conv1d.html?highlight=conv1d#torch.nn.Conv1d\n",
        "# https://pytorch.org/docs/stable/generated/torch.nn.Flatten.html\n",
        "# https://pytorch.org/docs/1.13/generated/torch.nn.Linear.html?highlight=linear#torch.nn.Linear\n",
        "\n",
        "# NOTE THAT THE CONVOLUTIONAL LAYERS NEED TO TAKE THE NUMBER OF INPUT CHANNELS AS A PARAMETER\n",
        "# AND NOT THE INPUT SIZE.\n",
        "\n",
        "# 640615023 Pisit Pisuttipunpong Answer\n",
        "model = nn.Sequential(\n",
        "    nn.Conv1d(1, 15, kernel_size=3, stride=2, padding=0),\n",
        "    nn.ReLU(),\n",
        "    nn.Conv1d(15, 15, kernel_size=3, stride=2, padding=0),\n",
        "    nn.ReLU(),\n",
        "    nn.Conv1d(15, 15, kernel_size=3, stride=2, padding=0),\n",
        "    nn.ReLU(),\n",
        "    nn.Flatten(),\n",
        "    nn.Linear(4 * 15, 10)\n",
        ")"
      ]
    },
    {
      "cell_type": "code",
      "execution_count": 7,
      "metadata": {
        "id": "YgLaex1pfhqz"
      },
      "outputs": [],
      "source": [
        "# He initialization of weights\n",
        "def weights_init(layer_in):\n",
        "  if isinstance(layer_in, nn.Linear):\n",
        "    nn.init.kaiming_uniform_(layer_in.weight)\n",
        "    layer_in.bias.data.fill_(0.0)"
      ]
    },
    {
      "cell_type": "code",
      "execution_count": 10,
      "metadata": {
        "id": "NYw8I_3mmX5c"
      },
      "outputs": [
        {
          "name": "stdout",
          "output_type": "stream",
          "text": [
            "Epoch     0, train loss 1.997699, train error 77.88,  val loss 2.005489, percent error 78.00\n",
            "Epoch     1, train loss 1.618245, train error 64.03,  val loss 1.626486, percent error 64.60\n",
            "Epoch     2, train loss 1.587506, train error 63.72,  val loss 1.606182, percent error 65.90\n",
            "Epoch     3, train loss 1.341254, train error 56.12,  val loss 1.363442, percent error 59.50\n",
            "Epoch     4, train loss 1.273902, train error 52.47,  val loss 1.294655, percent error 53.30\n",
            "Epoch     5, train loss 1.228076, train error 50.10,  val loss 1.265785, percent error 52.30\n",
            "Epoch     6, train loss 1.119061, train error 45.08,  val loss 1.147512, percent error 49.90\n",
            "Epoch     7, train loss 1.036042, train error 39.62,  val loss 1.074309, percent error 42.60\n",
            "Epoch     8, train loss 1.073401, train error 41.35,  val loss 1.139087, percent error 44.20\n",
            "Epoch     9, train loss 0.885212, train error 35.90,  val loss 0.933446, percent error 37.10\n",
            "Epoch    10, train loss 0.824880, train error 33.32,  val loss 0.895576, percent error 37.00\n",
            "Epoch    11, train loss 0.765514, train error 29.15,  val loss 0.821229, percent error 31.70\n",
            "Epoch    12, train loss 0.819885, train error 31.32,  val loss 0.869373, percent error 33.00\n",
            "Epoch    13, train loss 0.661660, train error 24.78,  val loss 0.704441, percent error 26.70\n",
            "Epoch    14, train loss 0.683789, train error 26.75,  val loss 0.723505, percent error 26.90\n",
            "Epoch    15, train loss 0.541848, train error 19.68,  val loss 0.607727, percent error 22.80\n",
            "Epoch    16, train loss 0.436757, train error 15.82,  val loss 0.537523, percent error 19.80\n",
            "Epoch    17, train loss 0.374181, train error 13.28,  val loss 0.468347, percent error 16.00\n",
            "Epoch    18, train loss 0.377824, train error 13.85,  val loss 0.474049, percent error 16.90\n",
            "Epoch    19, train loss 0.459295, train error 16.55,  val loss 0.583488, percent error 19.90\n",
            "Epoch    20, train loss 0.234537, train error 8.35,  val loss 0.372567, percent error 13.00\n",
            "Epoch    21, train loss 0.221961, train error 7.55,  val loss 0.352210, percent error 12.10\n",
            "Epoch    22, train loss 0.208710, train error 6.60,  val loss 0.356056, percent error 12.00\n",
            "Epoch    23, train loss 0.205121, train error 6.85,  val loss 0.364773, percent error 12.50\n",
            "Epoch    24, train loss 0.186712, train error 6.62,  val loss 0.349329, percent error 12.20\n",
            "Epoch    25, train loss 0.169952, train error 6.00,  val loss 0.364480, percent error 11.50\n",
            "Epoch    26, train loss 0.166983, train error 5.53,  val loss 0.348659, percent error 11.50\n",
            "Epoch    27, train loss 0.157543, train error 5.30,  val loss 0.350732, percent error 11.40\n",
            "Epoch    28, train loss 0.150057, train error 5.07,  val loss 0.356531, percent error 11.60\n",
            "Epoch    29, train loss 0.145430, train error 4.97,  val loss 0.354800, percent error 11.30\n",
            "Epoch    30, train loss 0.143397, train error 5.03,  val loss 0.382787, percent error 11.70\n",
            "Epoch    31, train loss 0.143593, train error 4.78,  val loss 0.331013, percent error 11.30\n",
            "Epoch    32, train loss 0.144726, train error 5.47,  val loss 0.377087, percent error 11.20\n",
            "Epoch    33, train loss 0.162738, train error 5.95,  val loss 0.372172, percent error 12.40\n",
            "Epoch    34, train loss 0.182335, train error 7.40,  val loss 0.438300, percent error 12.50\n",
            "Epoch    35, train loss 0.114275, train error 3.80,  val loss 0.339214, percent error 10.20\n",
            "Epoch    36, train loss 0.122617, train error 4.18,  val loss 0.341863, percent error 10.60\n",
            "Epoch    37, train loss 0.132410, train error 5.03,  val loss 0.374253, percent error 11.60\n",
            "Epoch    38, train loss 0.118355, train error 4.38,  val loss 0.385714, percent error 10.70\n",
            "Epoch    39, train loss 0.105854, train error 3.70,  val loss 0.368320, percent error 11.50\n",
            "Epoch    40, train loss 0.086680, train error 2.70,  val loss 0.358890, percent error 10.50\n",
            "Epoch    41, train loss 0.085213, train error 2.93,  val loss 0.372109, percent error 10.50\n",
            "Epoch    42, train loss 0.089697, train error 3.03,  val loss 0.347166, percent error 10.70\n",
            "Epoch    43, train loss 0.075843, train error 2.28,  val loss 0.345116, percent error 10.30\n",
            "Epoch    44, train loss 0.075878, train error 2.20,  val loss 0.361632, percent error 10.30\n",
            "Epoch    45, train loss 0.078366, train error 2.40,  val loss 0.356839, percent error 10.30\n",
            "Epoch    46, train loss 0.071809, train error 1.93,  val loss 0.361555, percent error 10.20\n",
            "Epoch    47, train loss 0.070541, train error 2.15,  val loss 0.366902, percent error 10.40\n",
            "Epoch    48, train loss 0.069930, train error 2.12,  val loss 0.359050, percent error 10.20\n",
            "Epoch    49, train loss 0.068604, train error 2.20,  val loss 0.368140, percent error 10.40\n",
            "Epoch    50, train loss 0.071374, train error 2.38,  val loss 0.377029, percent error 10.10\n",
            "Epoch    51, train loss 0.083910, train error 2.62,  val loss 0.381284, percent error 10.90\n",
            "Epoch    52, train loss 0.062991, train error 1.88,  val loss 0.366995, percent error 10.20\n",
            "Epoch    53, train loss 0.064211, train error 2.00,  val loss 0.377462, percent error 10.30\n",
            "Epoch    54, train loss 0.064649, train error 1.82,  val loss 0.379886, percent error 10.20\n",
            "Epoch    55, train loss 0.055766, train error 1.62,  val loss 0.366110, percent error 10.10\n",
            "Epoch    56, train loss 0.066237, train error 2.12,  val loss 0.412881, percent error 11.50\n",
            "Epoch    57, train loss 0.055302, train error 1.43,  val loss 0.383560, percent error 10.10\n",
            "Epoch    58, train loss 0.054070, train error 1.38,  val loss 0.389849, percent error 10.60\n",
            "Epoch    59, train loss 0.053253, train error 1.40,  val loss 0.383758, percent error 10.70\n",
            "Epoch    60, train loss 0.048374, train error 1.10,  val loss 0.382613, percent error 10.50\n",
            "Epoch    61, train loss 0.049438, train error 1.25,  val loss 0.390443, percent error 10.30\n",
            "Epoch    62, train loss 0.049214, train error 1.18,  val loss 0.384750, percent error 10.00\n",
            "Epoch    63, train loss 0.047477, train error 1.15,  val loss 0.385624, percent error 10.40\n",
            "Epoch    64, train loss 0.049934, train error 1.32,  val loss 0.384650, percent error 10.60\n",
            "Epoch    65, train loss 0.046347, train error 1.00,  val loss 0.385726, percent error 10.20\n",
            "Epoch    66, train loss 0.045431, train error 1.03,  val loss 0.395414, percent error 10.30\n",
            "Epoch    67, train loss 0.045358, train error 0.97,  val loss 0.389371, percent error 10.30\n",
            "Epoch    68, train loss 0.045114, train error 1.07,  val loss 0.391997, percent error 10.20\n",
            "Epoch    69, train loss 0.043669, train error 0.93,  val loss 0.398178, percent error 10.60\n",
            "Epoch    70, train loss 0.043059, train error 0.93,  val loss 0.404714, percent error 10.40\n",
            "Epoch    71, train loss 0.045882, train error 1.00,  val loss 0.405898, percent error 10.20\n",
            "Epoch    72, train loss 0.042537, train error 0.88,  val loss 0.400114, percent error 10.40\n",
            "Epoch    73, train loss 0.041467, train error 0.88,  val loss 0.399674, percent error 10.40\n",
            "Epoch    74, train loss 0.042391, train error 0.85,  val loss 0.405653, percent error 10.80\n",
            "Epoch    75, train loss 0.043222, train error 0.93,  val loss 0.406691, percent error 10.10\n",
            "Epoch    76, train loss 0.040136, train error 0.82,  val loss 0.404841, percent error 10.60\n",
            "Epoch    77, train loss 0.041351, train error 0.93,  val loss 0.397184, percent error 10.60\n",
            "Epoch    78, train loss 0.043548, train error 1.05,  val loss 0.414399, percent error 10.60\n",
            "Epoch    79, train loss 0.039987, train error 0.75,  val loss 0.410725, percent error 10.60\n",
            "Epoch    80, train loss 0.040745, train error 0.82,  val loss 0.411344, percent error 10.30\n",
            "Epoch    81, train loss 0.038502, train error 0.78,  val loss 0.415423, percent error 10.50\n",
            "Epoch    82, train loss 0.037862, train error 0.70,  val loss 0.412193, percent error 10.40\n",
            "Epoch    83, train loss 0.037599, train error 0.65,  val loss 0.410802, percent error 10.60\n",
            "Epoch    84, train loss 0.037735, train error 0.65,  val loss 0.411255, percent error 10.90\n",
            "Epoch    85, train loss 0.037247, train error 0.70,  val loss 0.405690, percent error 10.50\n",
            "Epoch    86, train loss 0.037036, train error 0.62,  val loss 0.412114, percent error 10.50\n",
            "Epoch    87, train loss 0.036729, train error 0.70,  val loss 0.408593, percent error 10.20\n",
            "Epoch    88, train loss 0.036886, train error 0.68,  val loss 0.411910, percent error 10.70\n",
            "Epoch    89, train loss 0.036443, train error 0.72,  val loss 0.410887, percent error 10.30\n",
            "Epoch    90, train loss 0.037758, train error 0.82,  val loss 0.415371, percent error 11.00\n",
            "Epoch    91, train loss 0.035988, train error 0.68,  val loss 0.412269, percent error 10.60\n",
            "Epoch    92, train loss 0.036365, train error 0.78,  val loss 0.411980, percent error 10.50\n",
            "Epoch    93, train loss 0.036476, train error 0.70,  val loss 0.413706, percent error 10.90\n",
            "Epoch    94, train loss 0.035478, train error 0.60,  val loss 0.416697, percent error 10.70\n",
            "Epoch    95, train loss 0.035522, train error 0.60,  val loss 0.420781, percent error 10.90\n",
            "Epoch    96, train loss 0.035185, train error 0.65,  val loss 0.416315, percent error 10.60\n",
            "Epoch    97, train loss 0.034785, train error 0.68,  val loss 0.416045, percent error 10.30\n",
            "Epoch    98, train loss 0.034960, train error 0.68,  val loss 0.413161, percent error 10.20\n",
            "Epoch    99, train loss 0.034916, train error 0.70,  val loss 0.419207, percent error 10.60\n"
          ]
        },
        {
          "data": {
            "image/png": "[encoded data removed]",
            "text/plain": [
              "<Figure size 640x480 with 1 Axes>"
            ]
          },
          "metadata": {},
          "output_type": "display_data"
        }
      ],
      "source": [
        "# choose cross entropy loss function (equation 5.24 in the loss notes)\n",
        "loss_function = nn.CrossEntropyLoss()\n",
        "# construct SGD optimizer and initialize learning rate and momentum\n",
        "optimizer = torch.optim.SGD(model.parameters(), lr = 0.05, momentum=0.9)\n",
        "# object that decreases learning rate by half every 20 epochs\n",
        "scheduler = StepLR(optimizer, step_size=20, gamma=0.5)\n",
        "# create 100 dummy data points and store in data loader class\n",
        "x_train = torch.tensor(train_data_x.transpose().astype('float32'))\n",
        "y_train = torch.tensor(train_data_y.astype('long')).long()\n",
        "x_val= torch.tensor(val_data_x.transpose().astype('float32'))\n",
        "y_val = torch.tensor(val_data_y.astype('long')).long()\n",
        "\n",
        "# load the data into a class that creates the batches\n",
        "data_loader = DataLoader(TensorDataset(x_train,y_train), batch_size=100, shuffle=True, worker_init_fn=np.random.seed(1))\n",
        "\n",
        "# Initialize model weights\n",
        "model.apply(weights_init)\n",
        "\n",
        "# loop over the dataset n_epoch times\n",
        "n_epoch = 100\n",
        "# store the loss and the % correct at each epoch\n",
        "losses_train = np.zeros((n_epoch))\n",
        "errors_train = np.zeros((n_epoch))\n",
        "losses_val = np.zeros((n_epoch))\n",
        "errors_val = np.zeros((n_epoch))\n",
        "\n",
        "for epoch in range(n_epoch):\n",
        "  # loop over batches\n",
        "  for i, data in enumerate(data_loader):\n",
        "    # retrieve inputs and labels for this batch\n",
        "    x_batch, y_batch = data\n",
        "    # zero the parameter gradients\n",
        "    optimizer.zero_grad()\n",
        "    # forward pass -- calculate model output\n",
        "    pred = model(x_batch[:,None,:])\n",
        "    # compute the loss\n",
        "    loss = loss_function(pred, y_batch)\n",
        "    # backward pass\n",
        "    loss.backward()\n",
        "    # SGD update\n",
        "    optimizer.step()\n",
        "\n",
        "  # Run whole dataset to get statistics -- normally wouldn't do this\n",
        "  pred_train = model(x_train[:,None,:])\n",
        "  pred_val = model(x_val[:,None,:])\n",
        "  _, predicted_train_class = torch.max(pred_train.data, 1)\n",
        "  _, predicted_val_class = torch.max(pred_val.data, 1)\n",
        "  errors_train[epoch] = 100 - 100 * (predicted_train_class == y_train).float().sum() / len(y_train)\n",
        "  errors_val[epoch]= 100 - 100 * (predicted_val_class == y_val).float().sum() / len(y_val)\n",
        "  losses_train[epoch] = loss_function(pred_train, y_train).item()\n",
        "  losses_val[epoch]= loss_function(pred_val, y_val).item()\n",
        "  print(f'Epoch {epoch:5d}, train loss {losses_train[epoch]:.6f}, train error {errors_train[epoch]:3.2f},  val loss {losses_val[epoch]:.6f}, percent error {errors_val[epoch]:3.2f}')\n",
        "\n",
        "  # tell scheduler to consider updating learning rate\n",
        "  scheduler.step()\n",
        "\n",
        "# Plot the results\n",
        "fig, ax = plt.subplots()\n",
        "ax.plot(errors_train,'r-',label='train')\n",
        "ax.plot(errors_val,'b-',label='validation')\n",
        "ax.set_ylim(0,100); ax.set_xlim(0,n_epoch)\n",
        "ax.set_xlabel('Epoch'); ax.set_ylabel('Error')\n",
        "ax.set_title('Part I: Validation Result %3.2f'%(errors_val[-1]))\n",
        "ax.legend()\n",
        "plt.show()"
      ]
    }
  ],
  "metadata": {
    "colab": {
      "authorship_tag": "ABX9TyNb46PJB/CC1pcHGfjpUUZg",
      "include_colab_link": true,
      "provenance": []
    },
    "kernelspec": {
      "display_name": "Python 3",
      "name": "python3"
    },
    "language_info": {
      "codemirror_mode": {
        "name": "ipython",
        "version": 3
      },
      "file_extension": ".py",
      "mimetype": "text/x-python",
      "name": "python",
      "nbconvert_exporter": "python",
      "pygments_lexer": "ipython3",
      "version": "3.12.4"
    }
  },
  "nbformat": 4,
  "nbformat_minor": 0
}
